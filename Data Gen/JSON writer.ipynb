{
 "cells": [
  {
   "cell_type": "code",
   "execution_count": 1,
   "metadata": {
    "ExecuteTime": {
     "end_time": "2019-08-23T18:43:03.355237Z",
     "start_time": "2019-08-23T18:43:02.444381Z"
    }
   },
   "outputs": [],
   "source": [
    "import pandas as pd"
   ]
  },
  {
   "cell_type": "code",
   "execution_count": 2,
   "metadata": {
    "ExecuteTime": {
     "end_time": "2019-08-07T18:33:54.439543Z",
     "start_time": "2019-08-07T18:33:54.434557Z"
    }
   },
   "outputs": [],
   "source": [
    "# pd.DataFrame(columns=['Title' ,'Description', 'Code']).to_json('data.json')"
   ]
  },
  {
   "cell_type": "code",
   "execution_count": 2,
   "metadata": {
    "ExecuteTime": {
     "end_time": "2019-08-23T18:43:03.925404Z",
     "start_time": "2019-08-23T18:43:03.359700Z"
    }
   },
   "outputs": [],
   "source": [
    "data = pd.read_json('../Web App/data/data.json')"
   ]
  },
  {
   "cell_type": "code",
   "execution_count": 3,
   "metadata": {
    "ExecuteTime": {
     "end_time": "2019-08-23T18:43:04.296558Z",
     "start_time": "2019-08-23T18:43:03.939413Z"
    }
   },
   "outputs": [
    {
     "data": {
      "text/html": [
       "<div>\n",
       "<style scoped>\n",
       "    .dataframe tbody tr th:only-of-type {\n",
       "        vertical-align: middle;\n",
       "    }\n",
       "\n",
       "    .dataframe tbody tr th {\n",
       "        vertical-align: top;\n",
       "    }\n",
       "\n",
       "    .dataframe thead th {\n",
       "        text-align: right;\n",
       "    }\n",
       "</style>\n",
       "<table border=\"1\" class=\"dataframe\">\n",
       "  <thead>\n",
       "    <tr style=\"text-align: right;\">\n",
       "      <th></th>\n",
       "      <th>Title</th>\n",
       "      <th>Description</th>\n",
       "      <th>Code</th>\n",
       "    </tr>\n",
       "  </thead>\n",
       "  <tbody>\n",
       "    <tr>\n",
       "      <th>0</th>\n",
       "      <td>ANN</td>\n",
       "      <td>(python)</td>\n",
       "      <td>from keras.models import Sequential\\nfrom kera...</td>\n",
       "    </tr>\n",
       "    <tr>\n",
       "      <th>1</th>\n",
       "      <td>CNN (text)</td>\n",
       "      <td>(python)</td>\n",
       "      <td>from keras.models import Sequential\\nfrom kera...</td>\n",
       "    </tr>\n",
       "    <tr>\n",
       "      <th>10</th>\n",
       "      <td>Webscraping</td>\n",
       "      <td>Using bs4 (python)</td>\n",
       "      <td>res = requests.get(url)\\r\\nif res.status_code ...</td>\n",
       "    </tr>\n",
       "    <tr>\n",
       "      <th>2</th>\n",
       "      <td>CustomScrollBar</td>\n",
       "      <td>(web)</td>\n",
       "      <td>/* width */\\n::-webkit-scrollbar {\\n  width: 1...</td>\n",
       "    </tr>\n",
       "    <tr>\n",
       "      <th>3</th>\n",
       "      <td>Flatten a list</td>\n",
       "      <td>(python)</td>\n",
       "      <td>flat_list = [item for sublist in l for item in...</td>\n",
       "    </tr>\n",
       "    <tr>\n",
       "      <th>4</th>\n",
       "      <td>IgnoreWarnings</td>\n",
       "      <td>(python)</td>\n",
       "      <td>import warnings\\r\\nwarnings.filterwarnings(\"ig...</td>\n",
       "    </tr>\n",
       "    <tr>\n",
       "      <th>5</th>\n",
       "      <td>RNN (text)</td>\n",
       "      <td>(python)</td>\n",
       "      <td>from keras.models import Sequential\\nfrom kera...</td>\n",
       "    </tr>\n",
       "    <tr>\n",
       "      <th>6</th>\n",
       "      <td>Shebang</td>\n",
       "      <td>Shebang line for anaconda virtual environments...</td>\n",
       "      <td>#!D:\\Users\\Ritvik\\Anaconda3\\envs\\datascience\\p...</td>\n",
       "    </tr>\n",
       "    <tr>\n",
       "      <th>7</th>\n",
       "      <td>Stopwords</td>\n",
       "      <td>List of Stopwords(text)</td>\n",
       "      <td>a\\nabout\\nabove\\nacross\\nafter\\nafterwards\\nag...</td>\n",
       "    </tr>\n",
       "    <tr>\n",
       "      <th>8</th>\n",
       "      <td>TextPreprocessing</td>\n",
       "      <td>(python)</td>\n",
       "      <td>import nltk, re\\nfrom nltk.stem.porter import ...</td>\n",
       "    </tr>\n",
       "    <tr>\n",
       "      <th>9</th>\n",
       "      <td>TimeStamp</td>\n",
       "      <td>(python)</td>\n",
       "      <td>import time, datetime\\r\\n\\r\\ndef timestamp():\\...</td>\n",
       "    </tr>\n",
       "  </tbody>\n",
       "</table>\n",
       "</div>"
      ],
      "text/plain": [
       "                Title                                        Description  \\\n",
       "0                 ANN                                           (python)   \n",
       "1          CNN (text)                                           (python)   \n",
       "10        Webscraping                                 Using bs4 (python)   \n",
       "2     CustomScrollBar                                              (web)   \n",
       "3      Flatten a list                                           (python)   \n",
       "4      IgnoreWarnings                                           (python)   \n",
       "5          RNN (text)                                           (python)   \n",
       "6             Shebang  Shebang line for anaconda virtual environments...   \n",
       "7           Stopwords                            List of Stopwords(text)   \n",
       "8   TextPreprocessing                                           (python)   \n",
       "9           TimeStamp                                           (python)   \n",
       "\n",
       "                                                 Code  \n",
       "0   from keras.models import Sequential\\nfrom kera...  \n",
       "1   from keras.models import Sequential\\nfrom kera...  \n",
       "10  res = requests.get(url)\\r\\nif res.status_code ...  \n",
       "2   /* width */\\n::-webkit-scrollbar {\\n  width: 1...  \n",
       "3   flat_list = [item for sublist in l for item in...  \n",
       "4   import warnings\\r\\nwarnings.filterwarnings(\"ig...  \n",
       "5   from keras.models import Sequential\\nfrom kera...  \n",
       "6   #!D:\\Users\\Ritvik\\Anaconda3\\envs\\datascience\\p...  \n",
       "7   a\\nabout\\nabove\\nacross\\nafter\\nafterwards\\nag...  \n",
       "8   import nltk, re\\nfrom nltk.stem.porter import ...  \n",
       "9   import time, datetime\\r\\n\\r\\ndef timestamp():\\...  "
      ]
     },
     "execution_count": 3,
     "metadata": {},
     "output_type": "execute_result"
    }
   ],
   "source": [
    "data"
   ]
  },
  {
   "cell_type": "markdown",
   "metadata": {},
   "source": [
    "**New Entry**"
   ]
  },
  {
   "cell_type": "code",
   "execution_count": 29,
   "metadata": {
    "ExecuteTime": {
     "end_time": "2019-08-23T19:09:01.976668Z",
     "start_time": "2019-08-23T19:09:01.969686Z"
    }
   },
   "outputs": [],
   "source": [
    "title = \"\"\"\n",
    "Get Password in command line\n",
    "\"\"\".strip()\n",
    "\n",
    "description = \"\"\"\n",
    "(python)\n",
    "\"\"\".strip()\n",
    "\n",
    "code = \"\"\"\n",
    "from getpass import getpass\n",
    "username = input('Enter Username...')   # User Input is displayed in the commandline\n",
    "password = getpass('Enter Password...') # User Input is not displayed in the commandline\n",
    "\"\"\".strip()"
   ]
  },
  {
   "cell_type": "code",
   "execution_count": 30,
   "metadata": {
    "ExecuteTime": {
     "end_time": "2019-08-23T19:09:02.474329Z",
     "start_time": "2019-08-23T19:09:02.467990Z"
    }
   },
   "outputs": [],
   "source": [
    "_ = pd.DataFrame({\n",
    "    'Title': [title],\n",
    "    'Description': [description],\n",
    "    'Code': [code]\n",
    "})"
   ]
  },
  {
   "cell_type": "code",
   "execution_count": 31,
   "metadata": {
    "ExecuteTime": {
     "end_time": "2019-08-23T19:09:03.050094Z",
     "start_time": "2019-08-23T19:09:03.040121Z"
    }
   },
   "outputs": [],
   "source": [
    "data = pd.concat([_, data])\n",
    "data.drop_duplicates(subset=['Title'], inplace=True)\n",
    "data.sort_values(by='Title', inplace=True)\n",
    "data.reset_index(drop=True, inplace=True)"
   ]
  },
  {
   "cell_type": "code",
   "execution_count": 32,
   "metadata": {
    "ExecuteTime": {
     "end_time": "2019-08-23T19:09:03.407001Z",
     "start_time": "2019-08-23T19:09:03.388050Z"
    }
   },
   "outputs": [
    {
     "data": {
      "text/html": [
       "<div>\n",
       "<style scoped>\n",
       "    .dataframe tbody tr th:only-of-type {\n",
       "        vertical-align: middle;\n",
       "    }\n",
       "\n",
       "    .dataframe tbody tr th {\n",
       "        vertical-align: top;\n",
       "    }\n",
       "\n",
       "    .dataframe thead th {\n",
       "        text-align: right;\n",
       "    }\n",
       "</style>\n",
       "<table border=\"1\" class=\"dataframe\">\n",
       "  <thead>\n",
       "    <tr style=\"text-align: right;\">\n",
       "      <th></th>\n",
       "      <th>Title</th>\n",
       "      <th>Description</th>\n",
       "      <th>Code</th>\n",
       "    </tr>\n",
       "  </thead>\n",
       "  <tbody>\n",
       "    <tr>\n",
       "      <th>0</th>\n",
       "      <td>ANN</td>\n",
       "      <td>(python)</td>\n",
       "      <td>from keras.models import Sequential\\nfrom kera...</td>\n",
       "    </tr>\n",
       "    <tr>\n",
       "      <th>1</th>\n",
       "      <td>CNN (text)</td>\n",
       "      <td>(python)</td>\n",
       "      <td>from keras.models import Sequential\\nfrom kera...</td>\n",
       "    </tr>\n",
       "    <tr>\n",
       "      <th>2</th>\n",
       "      <td>CustomScrollBar</td>\n",
       "      <td>(web)</td>\n",
       "      <td>/* width */\\n::-webkit-scrollbar {\\n  width: 1...</td>\n",
       "    </tr>\n",
       "    <tr>\n",
       "      <th>3</th>\n",
       "      <td>Deal with Large Numbers</td>\n",
       "      <td>(python)</td>\n",
       "      <td>num1 = 100_000_000_000  # Visually chunk large...</td>\n",
       "    </tr>\n",
       "    <tr>\n",
       "      <th>4</th>\n",
       "      <td>Dynamic Attributes in a Class</td>\n",
       "      <td>(python)</td>\n",
       "      <td>class Person():\\n    pass\\n\\nperson = Person()...</td>\n",
       "    </tr>\n",
       "    <tr>\n",
       "      <th>5</th>\n",
       "      <td>Flatten a list</td>\n",
       "      <td>(python)</td>\n",
       "      <td>flat_list = [item for sublist in l for item in...</td>\n",
       "    </tr>\n",
       "    <tr>\n",
       "      <th>6</th>\n",
       "      <td>Get Password in command line</td>\n",
       "      <td>(python)</td>\n",
       "      <td>from getpass import getpass\\nusername = input(...</td>\n",
       "    </tr>\n",
       "    <tr>\n",
       "      <th>7</th>\n",
       "      <td>IgnoreWarnings</td>\n",
       "      <td>(python)</td>\n",
       "      <td>import warnings\\r\\nwarnings.filterwarnings(\"ig...</td>\n",
       "    </tr>\n",
       "    <tr>\n",
       "      <th>8</th>\n",
       "      <td>RNN (text)</td>\n",
       "      <td>(python)</td>\n",
       "      <td>from keras.models import Sequential\\nfrom kera...</td>\n",
       "    </tr>\n",
       "    <tr>\n",
       "      <th>9</th>\n",
       "      <td>Shebang</td>\n",
       "      <td>Shebang line for anaconda virtual environments...</td>\n",
       "      <td>#!D:\\Users\\Ritvik\\Anaconda3\\envs\\datascience\\p...</td>\n",
       "    </tr>\n",
       "    <tr>\n",
       "      <th>10</th>\n",
       "      <td>Stopwords</td>\n",
       "      <td>List of Stopwords(text)</td>\n",
       "      <td>a\\nabout\\nabove\\nacross\\nafter\\nafterwards\\nag...</td>\n",
       "    </tr>\n",
       "    <tr>\n",
       "      <th>11</th>\n",
       "      <td>TextPreprocessing</td>\n",
       "      <td>(python)</td>\n",
       "      <td>import nltk, re\\nfrom nltk.stem.porter import ...</td>\n",
       "    </tr>\n",
       "    <tr>\n",
       "      <th>12</th>\n",
       "      <td>TimeStamp</td>\n",
       "      <td>(python)</td>\n",
       "      <td>import time, datetime\\r\\n\\r\\ndef timestamp():\\...</td>\n",
       "    </tr>\n",
       "    <tr>\n",
       "      <th>13</th>\n",
       "      <td>Unpacking</td>\n",
       "      <td>(python)</td>\n",
       "      <td>a, b, *c, d = (1,2,3,4,5)\\n\\nprint(a) # 1\\npri...</td>\n",
       "    </tr>\n",
       "    <tr>\n",
       "      <th>14</th>\n",
       "      <td>Webscraping</td>\n",
       "      <td>Using bs4 (python)</td>\n",
       "      <td>res = requests.get(url)\\r\\nif res.status_code ...</td>\n",
       "    </tr>\n",
       "  </tbody>\n",
       "</table>\n",
       "</div>"
      ],
      "text/plain": [
       "                            Title  \\\n",
       "0                             ANN   \n",
       "1                      CNN (text)   \n",
       "2                 CustomScrollBar   \n",
       "3         Deal with Large Numbers   \n",
       "4   Dynamic Attributes in a Class   \n",
       "5                  Flatten a list   \n",
       "6    Get Password in command line   \n",
       "7                  IgnoreWarnings   \n",
       "8                      RNN (text)   \n",
       "9                         Shebang   \n",
       "10                      Stopwords   \n",
       "11              TextPreprocessing   \n",
       "12                      TimeStamp   \n",
       "13                      Unpacking   \n",
       "14                    Webscraping   \n",
       "\n",
       "                                          Description  \\\n",
       "0                                            (python)   \n",
       "1                                            (python)   \n",
       "2                                               (web)   \n",
       "3                                            (python)   \n",
       "4                                            (python)   \n",
       "5                                            (python)   \n",
       "6                                            (python)   \n",
       "7                                            (python)   \n",
       "8                                            (python)   \n",
       "9   Shebang line for anaconda virtual environments...   \n",
       "10                            List of Stopwords(text)   \n",
       "11                                           (python)   \n",
       "12                                           (python)   \n",
       "13                                           (python)   \n",
       "14                                 Using bs4 (python)   \n",
       "\n",
       "                                                 Code  \n",
       "0   from keras.models import Sequential\\nfrom kera...  \n",
       "1   from keras.models import Sequential\\nfrom kera...  \n",
       "2   /* width */\\n::-webkit-scrollbar {\\n  width: 1...  \n",
       "3   num1 = 100_000_000_000  # Visually chunk large...  \n",
       "4   class Person():\\n    pass\\n\\nperson = Person()...  \n",
       "5   flat_list = [item for sublist in l for item in...  \n",
       "6   from getpass import getpass\\nusername = input(...  \n",
       "7   import warnings\\r\\nwarnings.filterwarnings(\"ig...  \n",
       "8   from keras.models import Sequential\\nfrom kera...  \n",
       "9   #!D:\\Users\\Ritvik\\Anaconda3\\envs\\datascience\\p...  \n",
       "10  a\\nabout\\nabove\\nacross\\nafter\\nafterwards\\nag...  \n",
       "11  import nltk, re\\nfrom nltk.stem.porter import ...  \n",
       "12  import time, datetime\\r\\n\\r\\ndef timestamp():\\...  \n",
       "13  a, b, *c, d = (1,2,3,4,5)\\n\\nprint(a) # 1\\npri...  \n",
       "14  res = requests.get(url)\\r\\nif res.status_code ...  "
      ]
     },
     "execution_count": 32,
     "metadata": {},
     "output_type": "execute_result"
    }
   ],
   "source": [
    "data"
   ]
  },
  {
   "cell_type": "code",
   "execution_count": 33,
   "metadata": {
    "ExecuteTime": {
     "end_time": "2019-08-23T19:09:05.487989Z",
     "start_time": "2019-08-23T19:09:05.470036Z"
    }
   },
   "outputs": [],
   "source": [
    "data.to_json('../Web App/data/data.json')"
   ]
  },
  {
   "cell_type": "code",
   "execution_count": null,
   "metadata": {},
   "outputs": [],
   "source": []
  }
 ],
 "metadata": {
  "kernelspec": {
   "display_name": "Python 3",
   "language": "python",
   "name": "python3"
  },
  "language_info": {
   "codemirror_mode": {
    "name": "ipython",
    "version": 3
   },
   "file_extension": ".py",
   "mimetype": "text/x-python",
   "name": "python",
   "nbconvert_exporter": "python",
   "pygments_lexer": "ipython3",
   "version": "3.7.3"
  },
  "toc": {
   "base_numbering": 1,
   "nav_menu": {},
   "number_sections": true,
   "sideBar": true,
   "skip_h1_title": false,
   "title_cell": "Table of Contents",
   "title_sidebar": "Contents",
   "toc_cell": false,
   "toc_position": {},
   "toc_section_display": true,
   "toc_window_display": false
  },
  "varInspector": {
   "cols": {
    "lenName": 16,
    "lenType": 16,
    "lenVar": 40
   },
   "kernels_config": {
    "python": {
     "delete_cmd_postfix": "",
     "delete_cmd_prefix": "del ",
     "library": "var_list.py",
     "varRefreshCmd": "print(var_dic_list())"
    },
    "r": {
     "delete_cmd_postfix": ") ",
     "delete_cmd_prefix": "rm(",
     "library": "var_list.r",
     "varRefreshCmd": "cat(var_dic_list()) "
    }
   },
   "types_to_exclude": [
    "module",
    "function",
    "builtin_function_or_method",
    "instance",
    "_Feature"
   ],
   "window_display": false
  }
 },
 "nbformat": 4,
 "nbformat_minor": 2
}
