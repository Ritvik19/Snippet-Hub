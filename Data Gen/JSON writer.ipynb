{
 "cells": [
  {
   "cell_type": "code",
   "execution_count": null,
   "metadata": {
    "ExecuteTime": {
     "end_time": "2019-09-02T09:21:53.477544Z",
     "start_time": "2019-09-02T09:21:52.450665Z"
    }
   },
   "outputs": [],
   "source": [
    "import pandas as pd"
   ]
  },
  {
   "cell_type": "code",
   "execution_count": null,
   "metadata": {
    "ExecuteTime": {
     "end_time": "2019-09-02T09:21:53.486077Z",
     "start_time": "2019-09-02T09:21:53.480523Z"
    }
   },
   "outputs": [],
   "source": [
    "# pd.DataFrame(columns=['Title' ,'Description', 'Code']).to_json('data.json')"
   ]
  },
  {
   "cell_type": "code",
   "execution_count": null,
   "metadata": {
    "ExecuteTime": {
     "end_time": "2019-09-02T09:21:53.729234Z",
     "start_time": "2019-09-02T09:21:53.490054Z"
    }
   },
   "outputs": [],
   "source": [
    "data = pd.read_json('../Web App/data/data.json')"
   ]
  },
  {
   "cell_type": "code",
   "execution_count": null,
   "metadata": {
    "ExecuteTime": {
     "end_time": "2019-09-02T09:21:53.909114Z",
     "start_time": "2019-09-02T09:21:53.740146Z"
    }
   },
   "outputs": [],
   "source": [
    "data"
   ]
  },
  {
   "cell_type": "markdown",
   "metadata": {},
   "source": [
    "**New Entry**"
   ]
  },
  {
   "cell_type": "code",
   "execution_count": null,
   "metadata": {
    "ExecuteTime": {
     "end_time": "2019-09-02T09:21:53.977153Z",
     "start_time": "2019-09-02T09:21:53.915223Z"
    }
   },
   "outputs": [],
   "source": [
    "title = \"\"\"\n",
    "Exploding a List\n",
    "\"\"\".strip()\n",
    "\n",
    "description = \"\"\"\n",
    "(Pandas DataFrame) (python)\n",
    "\"\"\".strip()\n",
    "\n",
    "code = \"\"\"\n",
    ">>> df = pd.DataFrame({'sandwich':  ['PB&J', 'BLT', 'cheese'],\n",
    "      'ingredients':[['peanut butter', 'jelly'],\n",
    "                    ['bacon', 'lettuce', 'tomato'],\n",
    "                    ['swiss cheese']]})\n",
    ">>> df\n",
    "    sandwich    ingredients\n",
    "0   PB&J        [peanut butter, jelly]\n",
    "1   BLT         [bacon, lettuce, tomato]\n",
    "2   cheese      [swiss cheese]\n",
    ">>> df.explode('ingredients')\n",
    "    sandwich    ingredients\n",
    "0   PB&J        peanut butter\n",
    "0   PB&J        jelly\n",
    "1   BLT         bacon\n",
    "1   BLT         lettuce\n",
    "1   BLT         tomato\n",
    "2   cheese      swiss cheese\n",
    "\"\"\".strip()"
   ]
  },
  {
   "cell_type": "code",
   "execution_count": null,
   "metadata": {
    "ExecuteTime": {
     "end_time": "2019-09-02T09:21:54.143378Z",
     "start_time": "2019-09-02T09:21:53.981138Z"
    }
   },
   "outputs": [],
   "source": [
    "_ = pd.DataFrame({\n",
    "    'Title': [title],\n",
    "    'Description': [description],\n",
    "    'Code': [code]\n",
    "})"
   ]
  },
  {
   "cell_type": "code",
   "execution_count": null,
   "metadata": {
    "ExecuteTime": {
     "end_time": "2019-09-02T09:21:54.277190Z",
     "start_time": "2019-09-02T09:21:54.152352Z"
    }
   },
   "outputs": [],
   "source": [
    "data = pd.concat([_, data])"
   ]
  },
  {
   "cell_type": "code",
   "execution_count": null,
   "metadata": {
    "ExecuteTime": {
     "end_time": "2019-09-02T09:21:54.430169Z",
     "start_time": "2019-09-02T09:21:54.285165Z"
    }
   },
   "outputs": [],
   "source": [
    "data.drop_duplicates(subset=['Title'], inplace=True)\n",
    "data.sort_values(by='Title', inplace=True)\n",
    "data.reset_index(drop=True, inplace=True)"
   ]
  },
  {
   "cell_type": "code",
   "execution_count": null,
   "metadata": {
    "ExecuteTime": {
     "end_time": "2019-09-02T09:21:54.585209Z",
     "start_time": "2019-09-02T09:21:54.439207Z"
    }
   },
   "outputs": [],
   "source": [
    "data"
   ]
  },
  {
   "cell_type": "code",
   "execution_count": null,
   "metadata": {
    "ExecuteTime": {
     "end_time": "2019-09-02T09:21:54.707336Z",
     "start_time": "2019-09-02T09:21:54.592423Z"
    }
   },
   "outputs": [],
   "source": [
    "data.to_json('../Web App/data/data.json')"
   ]
  },
  {
   "cell_type": "code",
   "execution_count": null,
   "metadata": {},
   "outputs": [],
   "source": []
  }
 ],
 "metadata": {
  "kernelspec": {
   "display_name": "Python 3",
   "language": "python",
   "name": "python3"
  },
  "language_info": {
   "codemirror_mode": {
    "name": "ipython",
    "version": 3
   },
   "file_extension": ".py",
   "mimetype": "text/x-python",
   "name": "python",
   "nbconvert_exporter": "python",
   "pygments_lexer": "ipython3",
   "version": "3.7.3"
  },
  "toc": {
   "base_numbering": 1,
   "nav_menu": {},
   "number_sections": true,
   "sideBar": true,
   "skip_h1_title": false,
   "title_cell": "Table of Contents",
   "title_sidebar": "Contents",
   "toc_cell": false,
   "toc_position": {},
   "toc_section_display": true,
   "toc_window_display": false
  },
  "varInspector": {
   "cols": {
    "lenName": 16,
    "lenType": 16,
    "lenVar": 40
   },
   "kernels_config": {
    "python": {
     "delete_cmd_postfix": "",
     "delete_cmd_prefix": "del ",
     "library": "var_list.py",
     "varRefreshCmd": "print(var_dic_list())"
    },
    "r": {
     "delete_cmd_postfix": ") ",
     "delete_cmd_prefix": "rm(",
     "library": "var_list.r",
     "varRefreshCmd": "cat(var_dic_list()) "
    }
   },
   "types_to_exclude": [
    "module",
    "function",
    "builtin_function_or_method",
    "instance",
    "_Feature"
   ],
   "window_display": false
  }
 },
 "nbformat": 4,
 "nbformat_minor": 2
}
