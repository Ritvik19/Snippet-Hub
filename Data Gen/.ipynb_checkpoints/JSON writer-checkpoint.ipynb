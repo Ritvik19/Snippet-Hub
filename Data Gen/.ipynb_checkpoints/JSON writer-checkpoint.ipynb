{
 "cells": [
  {
   "cell_type": "code",
   "execution_count": 1,
   "metadata": {
    "ExecuteTime": {
     "end_time": "2019-08-05T14:57:38.558554Z",
     "start_time": "2019-08-05T14:57:37.750513Z"
    }
   },
   "outputs": [],
   "source": [
    "import pandas as pd"
   ]
  },
  {
   "cell_type": "code",
   "execution_count": 2,
   "metadata": {
    "ExecuteTime": {
     "end_time": "2019-08-05T14:57:38.581004Z",
     "start_time": "2019-08-05T14:57:38.577507Z"
    }
   },
   "outputs": [],
   "source": [
    "# pd.DataFrame(columns=['Title' ,'Description', 'Code']).to_json('data.json')"
   ]
  },
  {
   "cell_type": "code",
   "execution_count": 3,
   "metadata": {
    "ExecuteTime": {
     "end_time": "2019-08-05T14:57:38.868761Z",
     "start_time": "2019-08-05T14:57:38.584488Z"
    }
   },
   "outputs": [],
   "source": [
    "data = pd.read_json('../Web App/data/data.json')"
   ]
  },
  {
   "cell_type": "code",
   "execution_count": 4,
   "metadata": {
    "ExecuteTime": {
     "end_time": "2019-08-05T14:57:38.977493Z",
     "start_time": "2019-08-05T14:57:38.907657Z"
    }
   },
   "outputs": [
    {
     "data": {
      "text/html": [
       "<div>\n",
       "<style scoped>\n",
       "    .dataframe tbody tr th:only-of-type {\n",
       "        vertical-align: middle;\n",
       "    }\n",
       "\n",
       "    .dataframe tbody tr th {\n",
       "        vertical-align: top;\n",
       "    }\n",
       "\n",
       "    .dataframe thead th {\n",
       "        text-align: right;\n",
       "    }\n",
       "</style>\n",
       "<table border=\"1\" class=\"dataframe\">\n",
       "  <thead>\n",
       "    <tr style=\"text-align: right;\">\n",
       "      <th></th>\n",
       "      <th>Title</th>\n",
       "      <th>Description</th>\n",
       "      <th>Code</th>\n",
       "    </tr>\n",
       "  </thead>\n",
       "  <tbody>\n",
       "    <tr>\n",
       "      <th>0</th>\n",
       "      <td>CustomScrollBar</td>\n",
       "      <td>(web)</td>\n",
       "      <td>/* width */\\n::-webkit-scrollbar {\\n  width: 1...</td>\n",
       "    </tr>\n",
       "    <tr>\n",
       "      <th>1</th>\n",
       "      <td>IgnoreWarnings</td>\n",
       "      <td>(python)</td>\n",
       "      <td>import warnings\\r\\nwarnings.filterwarnings(\"ig...</td>\n",
       "    </tr>\n",
       "    <tr>\n",
       "      <th>2</th>\n",
       "      <td>Shebang</td>\n",
       "      <td>Shebang line for anaconda virtual environments...</td>\n",
       "      <td>#!D:\\Users\\Ritvik\\Anaconda3\\envs\\datascience\\p...</td>\n",
       "    </tr>\n",
       "    <tr>\n",
       "      <th>3</th>\n",
       "      <td>Stopwords</td>\n",
       "      <td>List of Stopwords(text)</td>\n",
       "      <td>a\\nabout\\nabove\\nacross\\nafter\\nafterwards\\nag...</td>\n",
       "    </tr>\n",
       "    <tr>\n",
       "      <th>4</th>\n",
       "      <td>TextPreprocessing</td>\n",
       "      <td>(python)</td>\n",
       "      <td>import nltk, re\\nfrom nltk.stem.porter import ...</td>\n",
       "    </tr>\n",
       "    <tr>\n",
       "      <th>5</th>\n",
       "      <td>TimeStamp</td>\n",
       "      <td>(python)</td>\n",
       "      <td>import time, datatime\\r\\n\\r\\ndef timestamp():\\...</td>\n",
       "    </tr>\n",
       "    <tr>\n",
       "      <th>6</th>\n",
       "      <td>Webscraping</td>\n",
       "      <td>Using bs4 (python)</td>\n",
       "      <td>res = requests.get(url)\\r\\nif res.status_code ...</td>\n",
       "    </tr>\n",
       "  </tbody>\n",
       "</table>\n",
       "</div>"
      ],
      "text/plain": [
       "               Title                                        Description  \\\n",
       "0    CustomScrollBar                                              (web)   \n",
       "1     IgnoreWarnings                                           (python)   \n",
       "2            Shebang  Shebang line for anaconda virtual environments...   \n",
       "3          Stopwords                            List of Stopwords(text)   \n",
       "4  TextPreprocessing                                           (python)   \n",
       "5          TimeStamp                                           (python)   \n",
       "6        Webscraping                                 Using bs4 (python)   \n",
       "\n",
       "                                                Code  \n",
       "0  /* width */\\n::-webkit-scrollbar {\\n  width: 1...  \n",
       "1  import warnings\\r\\nwarnings.filterwarnings(\"ig...  \n",
       "2  #!D:\\Users\\Ritvik\\Anaconda3\\envs\\datascience\\p...  \n",
       "3  a\\nabout\\nabove\\nacross\\nafter\\nafterwards\\nag...  \n",
       "4  import nltk, re\\nfrom nltk.stem.porter import ...  \n",
       "5  import time, datatime\\r\\n\\r\\ndef timestamp():\\...  \n",
       "6  res = requests.get(url)\\r\\nif res.status_code ...  "
      ]
     },
     "execution_count": 4,
     "metadata": {},
     "output_type": "execute_result"
    }
   ],
   "source": [
    "data"
   ]
  },
  {
   "cell_type": "markdown",
   "metadata": {},
   "source": [
    "**New Entry**"
   ]
  },
  {
   "cell_type": "code",
   "execution_count": 15,
   "metadata": {
    "ExecuteTime": {
     "end_time": "2019-08-05T15:07:53.411053Z",
     "start_time": "2019-08-05T15:07:53.405063Z"
    }
   },
   "outputs": [],
   "source": [
    "title = \"\"\"\n",
    "CNN (text)\n",
    "\"\"\".strip()\n",
    "\n",
    "description = \"\"\"\n",
    "(python)\n",
    "\"\"\".strip()\n",
    "\n",
    "code = \"\"\"\n",
    "from keras.models import Sequential\n",
    "from keras.laeyrs import Dense, Dropout, Flatten, Embedding, Convolution1D, MaxPooling1D\n",
    "from keras.callbacks import EarlyStopping, ModelCheckpoint\n",
    "from keras.preprocessing.text import Tokenizer\n",
    "from keras.preprocessing.sequence import pad_sequences\n",
    "from keras import optimizers\n",
    "# optimizers.SGD()\n",
    "# optimizers.RMSProp()\n",
    "# optimizers.Adagrad()\n",
    "# optimizers.Adadelta()\n",
    "# optimizers.Adam()\n",
    "\n",
    "vocabulary_size = 7500\n",
    "pad_length = 1000\n",
    "tokenizer = Tokenizer(num_words= vocabulary_size)\n",
    "tokenizer.fit_on_texts(X)\n",
    "sequences = tokenizer.texts_to_sequences(X)\n",
    "padded_sequences = pad_sequences(sequences, maxlen=pad_length)\n",
    "\n",
    "es = EarlyStopping(monitor='loss', mode='min', verbose=1)\n",
    "filepath = \"model.h5\"\n",
    "ckpt = ModelCheckpoint(filepath, monitor='loss', verbose=1, save_best_only=True, mode='min')\n",
    "\n",
    "def build_network():\n",
    "    model = Sequential()\n",
    "    model.add(Embedding(vocabulary_size, 1024, input_length=pad_length))\n",
    "    model.add(Convolution1D(1024, kernel_size=5, activation='tanh', strides=2))\n",
    "    model.add(MaxPooling1D(pool_size=5))\n",
    "    model.add(Dense(160,input_dim=40, activation='relu'))\n",
    "    model.add(Dropout(0.2))\n",
    "    model.add(Dense(320, activation='relu'))\n",
    "    model.add(Dropout(0.2))\n",
    "    model.add(Dense(365, activation='relu'))\n",
    "    model.add(Dropout(0.2))\n",
    "    model.add(Dense(125, activation='relu'))\n",
    "    model.add(Dropout(0.2))\n",
    "    model.add(Dense(25, activation='relu'))\n",
    "    model.add(Dropout(0.2))\n",
    "    model.add(Dense(1, activation='sigmoid'))\n",
    "    model.compile(loss='binary_crossentropy', optimizer=, metrics=['accuracy'])\n",
    "    model.summary()\n",
    "    return model\n",
    "\n",
    "model = build_network()\n",
    "\n",
    "model.fit(scaled_data, train_label[0], validation_split=0.3, epochs=25, callbacks=[es, ckpt])\n",
    "\n",
    "\n",
    "from keras.models import load_model\n",
    "new_model = load_model(\"model.h5\")\n",
    "\"\"\".strip()"
   ]
  },
  {
   "cell_type": "code",
   "execution_count": 16,
   "metadata": {
    "ExecuteTime": {
     "end_time": "2019-08-05T15:07:54.028397Z",
     "start_time": "2019-08-05T15:07:54.021415Z"
    }
   },
   "outputs": [],
   "source": [
    "_ = pd.DataFrame({\n",
    "    'Title': [title],\n",
    "    'Description': [description],\n",
    "    'Code': [code]\n",
    "})"
   ]
  },
  {
   "cell_type": "code",
   "execution_count": 17,
   "metadata": {
    "ExecuteTime": {
     "end_time": "2019-08-05T15:07:54.377463Z",
     "start_time": "2019-08-05T15:07:54.370481Z"
    }
   },
   "outputs": [],
   "source": [
    "data = pd.concat([data, _])\n",
    "data.sort_values(by='Title', inplace=True)\n",
    "data.reset_index(drop=True, inplace=True)"
   ]
  },
  {
   "cell_type": "code",
   "execution_count": 18,
   "metadata": {
    "ExecuteTime": {
     "end_time": "2019-08-05T15:07:54.802344Z",
     "start_time": "2019-08-05T15:07:54.787367Z"
    }
   },
   "outputs": [
    {
     "data": {
      "text/html": [
       "<div>\n",
       "<style scoped>\n",
       "    .dataframe tbody tr th:only-of-type {\n",
       "        vertical-align: middle;\n",
       "    }\n",
       "\n",
       "    .dataframe tbody tr th {\n",
       "        vertical-align: top;\n",
       "    }\n",
       "\n",
       "    .dataframe thead th {\n",
       "        text-align: right;\n",
       "    }\n",
       "</style>\n",
       "<table border=\"1\" class=\"dataframe\">\n",
       "  <thead>\n",
       "    <tr style=\"text-align: right;\">\n",
       "      <th></th>\n",
       "      <th>Title</th>\n",
       "      <th>Description</th>\n",
       "      <th>Code</th>\n",
       "    </tr>\n",
       "  </thead>\n",
       "  <tbody>\n",
       "    <tr>\n",
       "      <th>0</th>\n",
       "      <td>ANN</td>\n",
       "      <td>(python)</td>\n",
       "      <td>from keras.models import Sequential\\nfrom kera...</td>\n",
       "    </tr>\n",
       "    <tr>\n",
       "      <th>1</th>\n",
       "      <td>CNN (text)</td>\n",
       "      <td>(python)</td>\n",
       "      <td>from keras.models import Sequential\\nfrom kera...</td>\n",
       "    </tr>\n",
       "    <tr>\n",
       "      <th>2</th>\n",
       "      <td>CustomScrollBar</td>\n",
       "      <td>(web)</td>\n",
       "      <td>/* width */\\n::-webkit-scrollbar {\\n  width: 1...</td>\n",
       "    </tr>\n",
       "    <tr>\n",
       "      <th>3</th>\n",
       "      <td>IgnoreWarnings</td>\n",
       "      <td>(python)</td>\n",
       "      <td>import warnings\\r\\nwarnings.filterwarnings(\"ig...</td>\n",
       "    </tr>\n",
       "    <tr>\n",
       "      <th>4</th>\n",
       "      <td>RNN (text)</td>\n",
       "      <td>(python)</td>\n",
       "      <td>from keras.models import Sequential\\nfrom kera...</td>\n",
       "    </tr>\n",
       "    <tr>\n",
       "      <th>5</th>\n",
       "      <td>Shebang</td>\n",
       "      <td>Shebang line for anaconda virtual environments...</td>\n",
       "      <td>#!D:\\Users\\Ritvik\\Anaconda3\\envs\\datascience\\p...</td>\n",
       "    </tr>\n",
       "    <tr>\n",
       "      <th>6</th>\n",
       "      <td>Stopwords</td>\n",
       "      <td>List of Stopwords(text)</td>\n",
       "      <td>a\\nabout\\nabove\\nacross\\nafter\\nafterwards\\nag...</td>\n",
       "    </tr>\n",
       "    <tr>\n",
       "      <th>7</th>\n",
       "      <td>TextPreprocessing</td>\n",
       "      <td>(python)</td>\n",
       "      <td>import nltk, re\\nfrom nltk.stem.porter import ...</td>\n",
       "    </tr>\n",
       "    <tr>\n",
       "      <th>8</th>\n",
       "      <td>TimeStamp</td>\n",
       "      <td>(python)</td>\n",
       "      <td>import time, datatime\\r\\n\\r\\ndef timestamp():\\...</td>\n",
       "    </tr>\n",
       "    <tr>\n",
       "      <th>9</th>\n",
       "      <td>Webscraping</td>\n",
       "      <td>Using bs4 (python)</td>\n",
       "      <td>res = requests.get(url)\\r\\nif res.status_code ...</td>\n",
       "    </tr>\n",
       "  </tbody>\n",
       "</table>\n",
       "</div>"
      ],
      "text/plain": [
       "               Title                                        Description  \\\n",
       "0                ANN                                           (python)   \n",
       "1         CNN (text)                                           (python)   \n",
       "2    CustomScrollBar                                              (web)   \n",
       "3     IgnoreWarnings                                           (python)   \n",
       "4         RNN (text)                                           (python)   \n",
       "5            Shebang  Shebang line for anaconda virtual environments...   \n",
       "6          Stopwords                            List of Stopwords(text)   \n",
       "7  TextPreprocessing                                           (python)   \n",
       "8          TimeStamp                                           (python)   \n",
       "9        Webscraping                                 Using bs4 (python)   \n",
       "\n",
       "                                                Code  \n",
       "0  from keras.models import Sequential\\nfrom kera...  \n",
       "1  from keras.models import Sequential\\nfrom kera...  \n",
       "2  /* width */\\n::-webkit-scrollbar {\\n  width: 1...  \n",
       "3  import warnings\\r\\nwarnings.filterwarnings(\"ig...  \n",
       "4  from keras.models import Sequential\\nfrom kera...  \n",
       "5  #!D:\\Users\\Ritvik\\Anaconda3\\envs\\datascience\\p...  \n",
       "6  a\\nabout\\nabove\\nacross\\nafter\\nafterwards\\nag...  \n",
       "7  import nltk, re\\nfrom nltk.stem.porter import ...  \n",
       "8  import time, datatime\\r\\n\\r\\ndef timestamp():\\...  \n",
       "9  res = requests.get(url)\\r\\nif res.status_code ...  "
      ]
     },
     "execution_count": 18,
     "metadata": {},
     "output_type": "execute_result"
    }
   ],
   "source": [
    "data"
   ]
  },
  {
   "cell_type": "code",
   "execution_count": 19,
   "metadata": {
    "ExecuteTime": {
     "end_time": "2019-08-05T15:07:57.361484Z",
     "start_time": "2019-08-05T15:07:57.343554Z"
    }
   },
   "outputs": [],
   "source": [
    "data.to_json('../Web App/data/data.json')"
   ]
  },
  {
   "cell_type": "code",
   "execution_count": null,
   "metadata": {},
   "outputs": [],
   "source": []
  }
 ],
 "metadata": {
  "kernelspec": {
   "display_name": "Python 3",
   "language": "python",
   "name": "python3"
  },
  "language_info": {
   "codemirror_mode": {
    "name": "ipython",
    "version": 3
   },
   "file_extension": ".py",
   "mimetype": "text/x-python",
   "name": "python",
   "nbconvert_exporter": "python",
   "pygments_lexer": "ipython3",
   "version": "3.7.3"
  },
  "toc": {
   "base_numbering": 1,
   "nav_menu": {},
   "number_sections": true,
   "sideBar": true,
   "skip_h1_title": false,
   "title_cell": "Table of Contents",
   "title_sidebar": "Contents",
   "toc_cell": false,
   "toc_position": {},
   "toc_section_display": true,
   "toc_window_display": false
  },
  "varInspector": {
   "cols": {
    "lenName": 16,
    "lenType": 16,
    "lenVar": 40
   },
   "kernels_config": {
    "python": {
     "delete_cmd_postfix": "",
     "delete_cmd_prefix": "del ",
     "library": "var_list.py",
     "varRefreshCmd": "print(var_dic_list())"
    },
    "r": {
     "delete_cmd_postfix": ") ",
     "delete_cmd_prefix": "rm(",
     "library": "var_list.r",
     "varRefreshCmd": "cat(var_dic_list()) "
    }
   },
   "types_to_exclude": [
    "module",
    "function",
    "builtin_function_or_method",
    "instance",
    "_Feature"
   ],
   "window_display": false
  }
 },
 "nbformat": 4,
 "nbformat_minor": 2
}
