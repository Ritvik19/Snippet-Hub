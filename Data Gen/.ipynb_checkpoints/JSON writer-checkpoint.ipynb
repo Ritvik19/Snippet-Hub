{
 "cells": [
  {
   "cell_type": "code",
   "execution_count": null,
   "metadata": {
    "ExecuteTime": {
     "end_time": "2019-08-26T12:59:14.935972Z",
     "start_time": "2019-08-26T12:59:14.029946Z"
    }
   },
   "outputs": [],
   "source": [
    "import pandas as pd"
   ]
  },
  {
   "cell_type": "code",
   "execution_count": null,
   "metadata": {
    "ExecuteTime": {
     "end_time": "2019-08-26T12:59:14.944525Z",
     "start_time": "2019-08-26T12:59:14.940220Z"
    }
   },
   "outputs": [],
   "source": [
    "# pd.DataFrame(columns=['Title' ,'Description', 'Code']).to_json('data.json')"
   ]
  },
  {
   "cell_type": "code",
   "execution_count": null,
   "metadata": {
    "ExecuteTime": {
     "end_time": "2019-08-26T12:59:15.196127Z",
     "start_time": "2019-08-26T12:59:14.948798Z"
    }
   },
   "outputs": [],
   "source": [
    "data = pd.read_json('../Web App/data/data.json')"
   ]
  },
  {
   "cell_type": "code",
   "execution_count": null,
   "metadata": {
    "ExecuteTime": {
     "end_time": "2019-08-26T12:59:15.413060Z",
     "start_time": "2019-08-26T12:59:15.200039Z"
    }
   },
   "outputs": [],
   "source": [
    "data"
   ]
  },
  {
   "cell_type": "markdown",
   "metadata": {},
   "source": [
    "**New Entry**"
   ]
  },
  {
   "cell_type": "code",
   "execution_count": null,
   "metadata": {
    "ExecuteTime": {
     "end_time": "2019-08-26T12:59:15.521999Z",
     "start_time": "2019-08-26T12:59:15.415022Z"
    }
   },
   "outputs": [],
   "source": [
    "title = \"\"\"\n",
    "VADER Sentiment Analysis\n",
    "\"\"\".strip()\n",
    "\n",
    "description = \"\"\"\n",
    "(python)\n",
    "\"\"\".strip()\n",
    "\n",
    "code = \"\"\"\n",
    "from vaderSentiment.vaderSentiment import SentimentIntensityAnalyzer \n",
    "\n",
    "def sentiment_scores(sentence): \n",
    "    sia_obj = SentimentIntensityAnalyzer() \n",
    "    sentiment_dict = sia_obj.polarity_scores(sentence) \n",
    "    if sentiment_dict['compound'] >= 0.05 : \n",
    "        return 1\n",
    "    elif sentiment_dict['compound'] <= - 0.05 : \n",
    "        return -1\n",
    "    else : \n",
    "        return 0\n",
    "\"\"\".strip()"
   ]
  },
  {
   "cell_type": "code",
   "execution_count": null,
   "metadata": {
    "ExecuteTime": {
     "end_time": "2019-08-26T12:59:15.674675Z",
     "start_time": "2019-08-26T12:59:15.524918Z"
    }
   },
   "outputs": [],
   "source": [
    "_ = pd.DataFrame({\n",
    "    'Title': [title],\n",
    "    'Description': [description],\n",
    "    'Code': [code]\n",
    "})"
   ]
  },
  {
   "cell_type": "code",
   "execution_count": null,
   "metadata": {
    "ExecuteTime": {
     "end_time": "2019-08-26T12:59:15.829033Z",
     "start_time": "2019-08-26T12:59:15.678610Z"
    }
   },
   "outputs": [],
   "source": [
    "data = pd.concat([_, data])"
   ]
  },
  {
   "cell_type": "code",
   "execution_count": null,
   "metadata": {
    "ExecuteTime": {
     "end_time": "2019-08-26T12:59:15.976950Z",
     "start_time": "2019-08-26T12:59:15.835139Z"
    }
   },
   "outputs": [],
   "source": [
    "data.drop_duplicates(subset=['Title'], inplace=True)\n",
    "data.sort_values(by='Title', inplace=True)\n",
    "data.reset_index(drop=True, inplace=True)"
   ]
  },
  {
   "cell_type": "code",
   "execution_count": null,
   "metadata": {
    "ExecuteTime": {
     "end_time": "2019-08-26T12:59:16.113711Z",
     "start_time": "2019-08-26T12:59:15.984354Z"
    }
   },
   "outputs": [],
   "source": [
    "data"
   ]
  },
  {
   "cell_type": "code",
   "execution_count": null,
   "metadata": {
    "ExecuteTime": {
     "end_time": "2019-08-26T12:59:16.230672Z",
     "start_time": "2019-08-26T12:59:16.118262Z"
    }
   },
   "outputs": [],
   "source": [
    "data.to_json('../Web App/data/data.json')"
   ]
  },
  {
   "cell_type": "code",
   "execution_count": null,
   "metadata": {},
   "outputs": [],
   "source": []
  }
 ],
 "metadata": {
  "kernelspec": {
   "display_name": "Python 3",
   "language": "python",
   "name": "python3"
  },
  "language_info": {
   "codemirror_mode": {
    "name": "ipython",
    "version": 3
   },
   "file_extension": ".py",
   "mimetype": "text/x-python",
   "name": "python",
   "nbconvert_exporter": "python",
   "pygments_lexer": "ipython3",
   "version": "3.7.3"
  },
  "toc": {
   "base_numbering": 1,
   "nav_menu": {},
   "number_sections": true,
   "sideBar": true,
   "skip_h1_title": false,
   "title_cell": "Table of Contents",
   "title_sidebar": "Contents",
   "toc_cell": false,
   "toc_position": {},
   "toc_section_display": true,
   "toc_window_display": false
  },
  "varInspector": {
   "cols": {
    "lenName": 16,
    "lenType": 16,
    "lenVar": 40
   },
   "kernels_config": {
    "python": {
     "delete_cmd_postfix": "",
     "delete_cmd_prefix": "del ",
     "library": "var_list.py",
     "varRefreshCmd": "print(var_dic_list())"
    },
    "r": {
     "delete_cmd_postfix": ") ",
     "delete_cmd_prefix": "rm(",
     "library": "var_list.r",
     "varRefreshCmd": "cat(var_dic_list()) "
    }
   },
   "types_to_exclude": [
    "module",
    "function",
    "builtin_function_or_method",
    "instance",
    "_Feature"
   ],
   "window_display": false
  }
 },
 "nbformat": 4,
 "nbformat_minor": 2
}
