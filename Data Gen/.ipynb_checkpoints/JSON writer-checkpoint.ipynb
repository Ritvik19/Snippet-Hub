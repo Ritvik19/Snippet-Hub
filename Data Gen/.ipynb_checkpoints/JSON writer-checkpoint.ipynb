{
 "cells": [
  {
   "cell_type": "code",
   "execution_count": null,
   "metadata": {
    "ExecuteTime": {
     "end_time": "2019-08-24T06:20:44.890470Z",
     "start_time": "2019-08-24T06:20:44.050351Z"
    }
   },
   "outputs": [],
   "source": [
    "import pandas as pd"
   ]
  },
  {
   "cell_type": "code",
   "execution_count": null,
   "metadata": {
    "ExecuteTime": {
     "end_time": "2019-08-24T06:20:44.898792Z",
     "start_time": "2019-08-24T06:20:44.894377Z"
    }
   },
   "outputs": [],
   "source": [
    "# pd.DataFrame(columns=['Title' ,'Description', 'Code']).to_json('data.json')"
   ]
  },
  {
   "cell_type": "code",
   "execution_count": null,
   "metadata": {
    "ExecuteTime": {
     "end_time": "2019-08-24T06:22:50.971299Z",
     "start_time": "2019-08-24T06:22:50.955263Z"
    }
   },
   "outputs": [],
   "source": [
    "data = pd.read_json('../Web App/data/data.json')"
   ]
  },
  {
   "cell_type": "code",
   "execution_count": null,
   "metadata": {
    "ExecuteTime": {
     "end_time": "2019-08-24T06:20:45.805386Z",
     "start_time": "2019-08-24T06:20:45.322268Z"
    }
   },
   "outputs": [],
   "source": [
    "data"
   ]
  },
  {
   "cell_type": "markdown",
   "metadata": {},
   "source": [
    "**New Entry**"
   ]
  },
  {
   "cell_type": "code",
   "execution_count": null,
   "metadata": {
    "ExecuteTime": {
     "end_time": "2019-08-24T06:21:32.693489Z",
     "start_time": "2019-08-24T06:21:32.688525Z"
    }
   },
   "outputs": [],
   "source": [
    "title = \"\"\"\n",
    "eval()\n",
    "\"\"\".strip()\n",
    "\n",
    "description = \"\"\"\n",
    "(python)\n",
    "\"\"\".strip()\n",
    "\n",
    "code = \"\"\"\n",
    "# it is a builtin function that allows us to\n",
    "# execute arbitrry strings in python\n",
    "\n",
    "add = \"1+5+6\"\n",
    "display = \"print('Hello')\"\n",
    "\n",
    "print (eval(add))  # 12\n",
    "eval(display)      # Hello\n",
    "\"\"\".strip()"
   ]
  },
  {
   "cell_type": "code",
   "execution_count": null,
   "metadata": {
    "ExecuteTime": {
     "end_time": "2019-08-24T06:21:33.516497Z",
     "start_time": "2019-08-24T06:21:33.508501Z"
    }
   },
   "outputs": [],
   "source": [
    "_ = pd.DataFrame({\n",
    "    'Title': [title],\n",
    "    'Description': [description],\n",
    "    'Code': [code]\n",
    "})"
   ]
  },
  {
   "cell_type": "code",
   "execution_count": null,
   "metadata": {
    "ExecuteTime": {
     "end_time": "2019-08-24T06:21:34.071877Z",
     "start_time": "2019-08-24T06:21:34.066039Z"
    }
   },
   "outputs": [],
   "source": [
    "data = pd.concat([_, data])"
   ]
  },
  {
   "cell_type": "code",
   "execution_count": null,
   "metadata": {
    "ExecuteTime": {
     "end_time": "2019-08-24T06:22:54.720708Z",
     "start_time": "2019-08-24T06:22:54.710648Z"
    }
   },
   "outputs": [],
   "source": [
    "data.drop_duplicates(subset=['Title'], inplace=True)\n",
    "data.sort_values(by='Title', inplace=True)\n",
    "data.reset_index(drop=True, inplace=True)"
   ]
  },
  {
   "cell_type": "code",
   "execution_count": null,
   "metadata": {
    "ExecuteTime": {
     "end_time": "2019-08-24T06:22:55.212531Z",
     "start_time": "2019-08-24T06:22:55.193640Z"
    }
   },
   "outputs": [],
   "source": [
    "data"
   ]
  },
  {
   "cell_type": "code",
   "execution_count": null,
   "metadata": {
    "ExecuteTime": {
     "end_time": "2019-08-24T06:22:59.619811Z",
     "start_time": "2019-08-24T06:22:59.592161Z"
    }
   },
   "outputs": [],
   "source": [
    "data.to_json('../Web App/data/data.json')"
   ]
  },
  {
   "cell_type": "code",
   "execution_count": null,
   "metadata": {},
   "outputs": [],
   "source": []
  }
 ],
 "metadata": {
  "kernelspec": {
   "display_name": "Python 3",
   "language": "python",
   "name": "python3"
  },
  "language_info": {
   "codemirror_mode": {
    "name": "ipython",
    "version": 3
   },
   "file_extension": ".py",
   "mimetype": "text/x-python",
   "name": "python",
   "nbconvert_exporter": "python",
   "pygments_lexer": "ipython3",
   "version": "3.7.3"
  },
  "toc": {
   "base_numbering": 1,
   "nav_menu": {},
   "number_sections": true,
   "sideBar": true,
   "skip_h1_title": false,
   "title_cell": "Table of Contents",
   "title_sidebar": "Contents",
   "toc_cell": false,
   "toc_position": {},
   "toc_section_display": true,
   "toc_window_display": false
  },
  "varInspector": {
   "cols": {
    "lenName": 16,
    "lenType": 16,
    "lenVar": 40
   },
   "kernels_config": {
    "python": {
     "delete_cmd_postfix": "",
     "delete_cmd_prefix": "del ",
     "library": "var_list.py",
     "varRefreshCmd": "print(var_dic_list())"
    },
    "r": {
     "delete_cmd_postfix": ") ",
     "delete_cmd_prefix": "rm(",
     "library": "var_list.r",
     "varRefreshCmd": "cat(var_dic_list()) "
    }
   },
   "types_to_exclude": [
    "module",
    "function",
    "builtin_function_or_method",
    "instance",
    "_Feature"
   ],
   "window_display": false
  }
 },
 "nbformat": 4,
 "nbformat_minor": 2
}
