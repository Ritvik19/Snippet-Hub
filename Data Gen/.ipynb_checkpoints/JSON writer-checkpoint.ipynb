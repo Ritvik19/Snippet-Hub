{
 "cells": [
  {
   "cell_type": "code",
   "execution_count": null,
   "metadata": {
    "ExecuteTime": {
     "end_time": "2019-08-29T13:39:33.064368Z",
     "start_time": "2019-08-29T13:39:32.337354Z"
    }
   },
   "outputs": [],
   "source": [
    "import pandas as pd"
   ]
  },
  {
   "cell_type": "code",
   "execution_count": null,
   "metadata": {
    "ExecuteTime": {
     "end_time": "2019-08-29T13:39:33.074253Z",
     "start_time": "2019-08-29T13:39:33.068356Z"
    }
   },
   "outputs": [],
   "source": [
    "# pd.DataFrame(columns=['Title' ,'Description', 'Code']).to_json('data.json')"
   ]
  },
  {
   "cell_type": "code",
   "execution_count": null,
   "metadata": {
    "ExecuteTime": {
     "end_time": "2019-08-29T13:39:33.255225Z",
     "start_time": "2019-08-29T13:39:33.077784Z"
    }
   },
   "outputs": [],
   "source": [
    "data = pd.read_json('../Web App/data/data.json')"
   ]
  },
  {
   "cell_type": "code",
   "execution_count": null,
   "metadata": {
    "ExecuteTime": {
     "end_time": "2019-08-29T13:39:33.454936Z",
     "start_time": "2019-08-29T13:39:33.258215Z"
    }
   },
   "outputs": [],
   "source": [
    "data"
   ]
  },
  {
   "cell_type": "markdown",
   "metadata": {},
   "source": [
    "**New Entry**"
   ]
  },
  {
   "cell_type": "code",
   "execution_count": null,
   "metadata": {
    "ExecuteTime": {
     "end_time": "2019-08-29T13:39:33.574029Z",
     "start_time": "2019-08-29T13:39:33.457928Z"
    }
   },
   "outputs": [],
   "source": [
    "title = \"\"\"\n",
    "Directory Manipulations\n",
    "\"\"\".strip()\n",
    "\n",
    "description = \"\"\"\n",
    "(python)\n",
    "\"\"\".strip()\n",
    "\n",
    "code = \"\"\"\n",
    "# Current working directory\n",
    "os.getcwd()\n",
    "\n",
    "# Change the CWD\n",
    "os.chdir(PATH)\n",
    "\n",
    "# Delete any directory\n",
    "os.rmdir(PATH)\n",
    "\n",
    "# Create a new directory\n",
    "os.mkdir(PATH)\n",
    "\n",
    "# Rename a directory\n",
    "os.rename(OLD, NEW)\n",
    "\n",
    "# Delete entire directory tree\n",
    "shutil.rmtree(PATH)\n",
    "\n",
    "# Copy entire directory tree\n",
    "shutil.copytree(SRC, DST)\n",
    "\n",
    "# Move file or directory\n",
    "shutil.move(SRC, DST)\n",
    "\"\"\".strip()"
   ]
  },
  {
   "cell_type": "code",
   "execution_count": null,
   "metadata": {
    "ExecuteTime": {
     "end_time": "2019-08-29T13:39:33.742180Z",
     "start_time": "2019-08-29T13:39:33.577001Z"
    }
   },
   "outputs": [],
   "source": [
    "_ = pd.DataFrame({\n",
    "    'Title': [title],\n",
    "    'Description': [description],\n",
    "    'Code': [code]\n",
    "})"
   ]
  },
  {
   "cell_type": "code",
   "execution_count": null,
   "metadata": {
    "ExecuteTime": {
     "end_time": "2019-08-29T13:39:33.911472Z",
     "start_time": "2019-08-29T13:39:33.746254Z"
    }
   },
   "outputs": [],
   "source": [
    "data = pd.concat([_, data])"
   ]
  },
  {
   "cell_type": "code",
   "execution_count": null,
   "metadata": {
    "ExecuteTime": {
     "end_time": "2019-08-29T13:39:34.054924Z",
     "start_time": "2019-08-29T13:39:33.930565Z"
    }
   },
   "outputs": [],
   "source": [
    "data.drop_duplicates(subset=['Title'], inplace=True)\n",
    "data.sort_values(by='Title', inplace=True)\n",
    "data.reset_index(drop=True, inplace=True)"
   ]
  },
  {
   "cell_type": "code",
   "execution_count": null,
   "metadata": {
    "ExecuteTime": {
     "end_time": "2019-08-29T13:39:34.213012Z",
     "start_time": "2019-08-29T13:39:34.059913Z"
    }
   },
   "outputs": [],
   "source": [
    "data"
   ]
  },
  {
   "cell_type": "code",
   "execution_count": null,
   "metadata": {
    "ExecuteTime": {
     "end_time": "2019-08-29T13:39:34.372893Z",
     "start_time": "2019-08-29T13:39:34.216057Z"
    }
   },
   "outputs": [],
   "source": [
    "data.to_json('../Web App/data/data.json')"
   ]
  },
  {
   "cell_type": "code",
   "execution_count": null,
   "metadata": {},
   "outputs": [],
   "source": []
  }
 ],
 "metadata": {
  "kernelspec": {
   "display_name": "Python 3",
   "language": "python",
   "name": "python3"
  },
  "language_info": {
   "codemirror_mode": {
    "name": "ipython",
    "version": 3
   },
   "file_extension": ".py",
   "mimetype": "text/x-python",
   "name": "python",
   "nbconvert_exporter": "python",
   "pygments_lexer": "ipython3",
   "version": "3.7.3"
  },
  "toc": {
   "base_numbering": 1,
   "nav_menu": {},
   "number_sections": true,
   "sideBar": true,
   "skip_h1_title": false,
   "title_cell": "Table of Contents",
   "title_sidebar": "Contents",
   "toc_cell": false,
   "toc_position": {},
   "toc_section_display": true,
   "toc_window_display": false
  },
  "varInspector": {
   "cols": {
    "lenName": 16,
    "lenType": 16,
    "lenVar": 40
   },
   "kernels_config": {
    "python": {
     "delete_cmd_postfix": "",
     "delete_cmd_prefix": "del ",
     "library": "var_list.py",
     "varRefreshCmd": "print(var_dic_list())"
    },
    "r": {
     "delete_cmd_postfix": ") ",
     "delete_cmd_prefix": "rm(",
     "library": "var_list.r",
     "varRefreshCmd": "cat(var_dic_list()) "
    }
   },
   "types_to_exclude": [
    "module",
    "function",
    "builtin_function_or_method",
    "instance",
    "_Feature"
   ],
   "window_display": false
  }
 },
 "nbformat": 4,
 "nbformat_minor": 2
}
