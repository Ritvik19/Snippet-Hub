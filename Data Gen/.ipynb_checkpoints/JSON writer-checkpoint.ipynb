{
 "cells": [
  {
   "cell_type": "code",
   "execution_count": null,
   "metadata": {
    "ExecuteTime": {
     "end_time": "2019-08-26T10:42:23.226517Z",
     "start_time": "2019-08-26T10:42:15.669983Z"
    }
   },
   "outputs": [],
   "source": [
    "import pandas as pd"
   ]
  },
  {
   "cell_type": "code",
   "execution_count": null,
   "metadata": {
    "ExecuteTime": {
     "end_time": "2019-08-26T10:42:23.234389Z",
     "start_time": "2019-08-26T10:42:23.229399Z"
    }
   },
   "outputs": [],
   "source": [
    "# pd.DataFrame(columns=['Title' ,'Description', 'Code']).to_json('data.json')"
   ]
  },
  {
   "cell_type": "code",
   "execution_count": null,
   "metadata": {
    "ExecuteTime": {
     "end_time": "2019-08-26T10:42:23.763786Z",
     "start_time": "2019-08-26T10:42:23.238376Z"
    }
   },
   "outputs": [],
   "source": [
    "data = pd.read_json('../Web App/data/data.json')"
   ]
  },
  {
   "cell_type": "code",
   "execution_count": null,
   "metadata": {
    "ExecuteTime": {
     "end_time": "2019-08-26T10:42:24.083781Z",
     "start_time": "2019-08-26T10:42:23.768779Z"
    }
   },
   "outputs": [],
   "source": [
    "data"
   ]
  },
  {
   "cell_type": "markdown",
   "metadata": {},
   "source": [
    "**New Entry**"
   ]
  },
  {
   "cell_type": "code",
   "execution_count": null,
   "metadata": {
    "ExecuteTime": {
     "end_time": "2019-08-26T10:42:24.097735Z",
     "start_time": "2019-08-26T10:42:24.089763Z"
    }
   },
   "outputs": [],
   "source": [
    "title = \"\"\"\n",
    "is vs ==\n",
    "\"\"\".strip()\n",
    "\n",
    "description = \"\"\"\n",
    "(python)\n",
    "\"\"\".strip()\n",
    "\n",
    "code = \"\"\"\n",
    "# == tests equality\n",
    "# is test identity\n",
    "\n",
    "l1 = [1,2,3,4]\n",
    "l2 = [1,2,3,4]\n",
    "\n",
    "print(l1 == l2) # True\n",
    "print(l1 is l2) # False\n",
    "\n",
    "l3 = l1\n",
    "l1[0] = 5\n",
    "\n",
    "print(l1 == l3) # True\n",
    "print(l1 is l3) # True\n",
    "print(l1, id(l1))       # [5, 2, 3, 4] 2391232377608\n",
    "print(l3, id(l3))       # [5, 2, 3, 4] 2391232377608\n",
    "\"\"\".strip()"
   ]
  },
  {
   "cell_type": "code",
   "execution_count": null,
   "metadata": {
    "ExecuteTime": {
     "end_time": "2019-08-26T10:42:24.306783Z",
     "start_time": "2019-08-26T10:42:24.102722Z"
    }
   },
   "outputs": [],
   "source": [
    "_ = pd.DataFrame({\n",
    "    'Title': [title],\n",
    "    'Description': [description],\n",
    "    'Code': [code]\n",
    "})"
   ]
  },
  {
   "cell_type": "code",
   "execution_count": null,
   "metadata": {
    "ExecuteTime": {
     "end_time": "2019-08-26T10:42:24.473799Z",
     "start_time": "2019-08-26T10:42:24.312800Z"
    }
   },
   "outputs": [],
   "source": [
    "data = pd.concat([_, data])"
   ]
  },
  {
   "cell_type": "code",
   "execution_count": null,
   "metadata": {
    "ExecuteTime": {
     "end_time": "2019-08-26T10:42:24.832519Z",
     "start_time": "2019-08-26T10:42:24.480780Z"
    }
   },
   "outputs": [],
   "source": [
    "data.drop_duplicates(subset=['Title'], inplace=True)\n",
    "data.sort_values(by='Title', inplace=True)\n",
    "data.reset_index(drop=True, inplace=True)"
   ]
  },
  {
   "cell_type": "code",
   "execution_count": null,
   "metadata": {
    "ExecuteTime": {
     "end_time": "2019-08-26T10:42:24.869418Z",
     "start_time": "2019-08-26T10:42:24.844483Z"
    }
   },
   "outputs": [],
   "source": [
    "data"
   ]
  },
  {
   "cell_type": "code",
   "execution_count": null,
   "metadata": {
    "ExecuteTime": {
     "end_time": "2019-08-26T10:42:25.000005Z",
     "start_time": "2019-08-26T10:42:24.872409Z"
    }
   },
   "outputs": [],
   "source": [
    "data.to_json('../Web App/data/data.json')"
   ]
  },
  {
   "cell_type": "code",
   "execution_count": null,
   "metadata": {},
   "outputs": [],
   "source": []
  }
 ],
 "metadata": {
  "kernelspec": {
   "display_name": "Python 3",
   "language": "python",
   "name": "python3"
  },
  "language_info": {
   "codemirror_mode": {
    "name": "ipython",
    "version": 3
   },
   "file_extension": ".py",
   "mimetype": "text/x-python",
   "name": "python",
   "nbconvert_exporter": "python",
   "pygments_lexer": "ipython3",
   "version": "3.7.3"
  },
  "toc": {
   "base_numbering": 1,
   "nav_menu": {},
   "number_sections": true,
   "sideBar": true,
   "skip_h1_title": false,
   "title_cell": "Table of Contents",
   "title_sidebar": "Contents",
   "toc_cell": false,
   "toc_position": {},
   "toc_section_display": true,
   "toc_window_display": false
  },
  "varInspector": {
   "cols": {
    "lenName": 16,
    "lenType": 16,
    "lenVar": 40
   },
   "kernels_config": {
    "python": {
     "delete_cmd_postfix": "",
     "delete_cmd_prefix": "del ",
     "library": "var_list.py",
     "varRefreshCmd": "print(var_dic_list())"
    },
    "r": {
     "delete_cmd_postfix": ") ",
     "delete_cmd_prefix": "rm(",
     "library": "var_list.r",
     "varRefreshCmd": "cat(var_dic_list()) "
    }
   },
   "types_to_exclude": [
    "module",
    "function",
    "builtin_function_or_method",
    "instance",
    "_Feature"
   ],
   "window_display": false
  }
 },
 "nbformat": 4,
 "nbformat_minor": 2
}
